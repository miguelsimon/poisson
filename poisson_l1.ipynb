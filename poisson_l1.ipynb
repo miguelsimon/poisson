{
 "cells": [
  {
   "cell_type": "code",
   "execution_count": 1,
   "metadata": {},
   "outputs": [],
   "source": [
    "import numpy as np"
   ]
  },
  {
   "cell_type": "markdown",
   "metadata": {},
   "source": [
    "## Overview\n",
    "\n",
    "We're modelling particle counts at $k$ detectors, caused by an event in a space X, discretized as $X^k$.\n",
    "\n",
    "We assume that we can model a count at a detector $d_i$ as a Poisson distribution,\n",
    "\n",
    "$$\n",
    "d_i \\sim Poisson(\\theta_i \\cdot x^k)\n",
    "$$\n",
    "\n",
    "where:\n",
    "* the $x^k$ vectors are sparse; they correspond to a point event\n",
    "* the structure of $\\theta_i$ is not clear"
   ]
  },
  {
   "cell_type": "code",
   "execution_count": 2,
   "metadata": {},
   "outputs": [],
   "source": [
    "class Sim:\n",
    "    def __init__(self, theta):\n",
    "        self.theta = theta\n",
    "    \n",
    "    def sample(self):\n",
    "        n = self.theta.shape[0]\n",
    "        \n",
    "        x = np.random.multinomial(1, np.ones(n) / n)\n",
    "        \n",
    "        lam = np.dot(x, self.theta)\n",
    "        \n",
    "        y = np.random.poisson(lam)\n",
    "        return x, y"
   ]
  },
  {
   "cell_type": "code",
   "execution_count": 6,
   "metadata": {},
   "outputs": [
    {
     "name": "stdout",
     "output_type": "stream",
     "text": [
      "(array([1, 0, 0, 0]), array([0, 1, 2]))\n",
      "(array([1, 0, 0, 0]), array([1, 1, 0]))\n",
      "(array([0, 0, 0, 1]), array([0, 1, 2]))\n",
      "(array([1, 0, 0, 0]), array([2, 1, 1]))\n",
      "(array([1, 0, 0, 0]), array([2, 1, 2]))\n",
      "(array([0, 1, 0, 0]), array([1, 1, 1]))\n",
      "(array([0, 1, 0, 0]), array([0, 1, 0]))\n",
      "(array([0, 0, 1, 0]), array([1, 0, 0]))\n",
      "(array([0, 0, 0, 1]), array([1, 0, 3]))\n",
      "(array([0, 1, 0, 0]), array([0, 1, 1]))\n"
     ]
    }
   ],
   "source": [
    "sim = Sim(np.ones((4, 3)))\n",
    "for i in range(10):\n",
    "    print(sim.sample())"
   ]
  },
  {
   "cell_type": "code",
   "execution_count": null,
   "metadata": {},
   "outputs": [],
   "source": []
  }
 ],
 "metadata": {
  "kernelspec": {
   "display_name": "Python 3",
   "language": "python",
   "name": "python3"
  },
  "language_info": {
   "codemirror_mode": {
    "name": "ipython",
    "version": 3
   },
   "file_extension": ".py",
   "mimetype": "text/x-python",
   "name": "python",
   "nbconvert_exporter": "python",
   "pygments_lexer": "ipython3",
   "version": "3.6.7"
  }
 },
 "nbformat": 4,
 "nbformat_minor": 2
}
