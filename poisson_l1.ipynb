{
 "cells": [
  {
   "cell_type": "code",
   "execution_count": 1,
   "metadata": {},
   "outputs": [],
   "source": [
    "import numpy as np\n",
    "import autograd_objective\n",
    "from poisson_id_link_model import Problem, Sim, fit, XObjEstimator, MAPEstimator\n",
    "from evaluate_errors import Evaluate, NullaryEstimator"
   ]
  },
  {
   "cell_type": "markdown",
   "metadata": {},
   "source": [
    "## Overview\n",
    "\n",
    "We're modelling particle counts at $k$ detectors, caused by an event in a space X, discretized as $X^m$.\n",
    "\n",
    "We assume that we can model a count at a detector $y_i$ as a Poisson distribution dependent on an event vector $x^m$,\n",
    "\n",
    "$$\n",
    "y_i \\sim Poisson(\\lambda_i)\n",
    "$$\n",
    "\n",
    "$$\n",
    "\\lambda_i = \\alpha_i \\cdot x^m + \\beta_i = \\theta_i \\cdot x^m\n",
    "$$\n",
    "\n",
    "where:\n",
    "* the $x^m$ vectors are sparse; they correspond to a point event\n",
    "* the structure of $\\theta_i$ is not clear"
   ]
  },
  {
   "cell_type": "markdown",
   "metadata": {},
   "source": [
    "For example, say we've got 3 detectors, and we've discretized the space where decomposition events happen into $m=4$ cells.\n",
    "\n",
    "The Poisson means $\\lambda_i$ are given by\n",
    "\n",
    "$$\n",
    "\\left[\n",
    "\\begin{matrix} \n",
    "\\lambda_0 \\\\\n",
    "\\lambda_1 \\\\\n",
    "\\lambda_2 \\\\\n",
    "\\end{matrix}\n",
    "\\right]\n",
    "=\n",
    "\\left[\n",
    "\\begin{matrix} \n",
    "\\alpha_{00} & \\alpha_{01} & \\alpha_{02} & \\alpha_{03} & \\beta_0 \\\\\n",
    "\\alpha_{10} & \\alpha_{11} & \\alpha_{12} & \\alpha_{13} & \\beta_1 \\\\\n",
    "\\alpha_{20} & \\alpha_{21} & \\alpha_{22} & \\alpha_{23} & \\beta_2 \\\\\n",
    "\\end{matrix}\n",
    "\\right]\n",
    "\\cdot\n",
    "\\left[\n",
    "\\begin{matrix} \n",
    "x_0 \\\\\n",
    "x_1 \\\\\n",
    "x_2 \\\\\n",
    "x_3 \\\\\n",
    "1 \\\\\n",
    "\\end{matrix}\n",
    "\\right]\n",
    "$$\n"
   ]
  },
  {
   "cell_type": "markdown",
   "metadata": {},
   "source": [
    "This seems intuitive to me; an event in a given cell causes Poisson-distributed counts in a given detector; the dark count rate is taken care of by $\\beta$; rates are linear in the events.\n",
    "\n",
    "So we have 2 problems.\n",
    "\n",
    "* Estimate the parameter vector $\\theta$ given training data $(x, y)$: We have training tuples (presumably from the geant4 simulation) and we use them to estimate the $\\theta$ coefficients.\n",
    "* Given an experimental measurement of $y$ and a precalculated $\\theta$, recover $x$\n"
   ]
  },
  {
   "cell_type": "markdown",
   "metadata": {},
   "source": [
    "### Problem characterization\n",
    "\n",
    "Our problems are characterized by:\n",
    "* the number of detectors $y\\_dim$\n",
    "* the number of discretized space voxels $x\\_dim$\n",
    "\n",
    "so let's come up with a dummy problem and try to recover $\\theta$."
   ]
  },
  {
   "cell_type": "code",
   "execution_count": 2,
   "metadata": {},
   "outputs": [
    {
     "name": "stdout",
     "output_type": "stream",
     "text": [
      "[-0.00632 -0.00123  0.00123]\n"
     ]
    }
   ],
   "source": [
    "theta = 10 * np.array([\n",
    "    [1.0, 0.5, 0.1, 0.1, 0.01],\n",
    "    [0.5, 0.1, 1.0, 0.1, 0.01],\n",
    "    [0.1, 1.0, 0.5, 0.1, 0.3], # this one's dcr is high\n",
    "])\n",
    "sim = Sim(theta)\n",
    "xs, ys, eys = [], [], []\n",
    "for i in range(100000):\n",
    "    x, y = sim.sample()\n",
    "    e_y = sim.obj.Ey_given_x(sim.theta, x)\n",
    "    ys.append(y)\n",
    "    eys.append(e_y)\n",
    "    \n",
    "# quick sanity check\n",
    "print(np.mean(ys, axis = 0) - np.mean(eys, axis = 0))\n"
   ]
  },
  {
   "cell_type": "markdown",
   "metadata": {},
   "source": [
    "Proof of concept solver:\n",
    "* I'm being really braindead about it, not taking advantage of the sparsity of $x$ to get a quadratic speed up and give the solver an easier time\n",
    "* I'm using the scipy [trust-constr solver](https://docs.scipy.org/doc/scipy/reference/optimize.minimize-trustconstr.html) because we have a nonnegativity constraint\n",
    "* I'm also using [autograd](https://github.com/HIPS/autograd) because it's super easy to get the gradient and I can use the built-in hessian vector product to give the solver second-order information (not that I know if it matters)\n",
    "\n",
    "There must be a specialized solver for this somewhere, maybe in [cvxopt](https://cvxopt.org/) or in [The Bible](https://web.stanford.edu/~boyd/cvxbook/), but I try not to look at the Boyd & Vandenberghe book for too long because it makes my brain hurt."
   ]
  },
  {
   "cell_type": "code",
   "execution_count": 3,
   "metadata": {},
   "outputs": [],
   "source": [
    "train_xs_100, train_ys_100 = sim.sample_n(100)\n",
    "obj = autograd_objective.ThetaObjective(train_xs_100, train_ys_100)\n",
    "theta_100, _sol = fit(obj)\n",
    "frobenius_100 = np.linalg.norm(theta - theta_100, ord=\"fro\")"
   ]
  },
  {
   "cell_type": "markdown",
   "metadata": {},
   "source": [
    "Let's give it more samples and see if the frobenius norm $\\| \\theta - \\hat{\\theta} \\|_{\\rm F}$ goes down as expected as the number of samples goes up:"
   ]
  },
  {
   "cell_type": "code",
   "execution_count": 4,
   "metadata": {},
   "outputs": [
    {
     "name": "stdout",
     "output_type": "stream",
     "text": [
      "frobenius 100: 2.640126169406094 1000: 0.5376397570587234\n"
     ]
    }
   ],
   "source": [
    "train_xs_1000, train_ys_1000 = sim.sample_n(1000)\n",
    "obj = autograd_objective.ThetaObjective(train_xs_1000, train_ys_1000)\n",
    "theta_1000, _sol = fit(obj)\n",
    "frobenius_1000 = np.linalg.norm(theta - theta_1000, ord=\"fro\")\n",
    "print('frobenius 100: {0} 1000: {1}'.format(frobenius_100, frobenius_1000))"
   ]
  },
  {
   "cell_type": "markdown",
   "metadata": {},
   "source": [
    "## Finding x\n",
    "\n",
    "Engineering beats cleverness, so let's start with a framework that lets us easily evaluate our estimators.\n",
    "\n",
    "We can start from a baseline *nullary* estimator; this simply draws samples from the marginal x distribution; it's simply a random guess consistent with the marginal x distribution.\n",
    "\n",
    "If we can't beat this, we're screwed.\n",
    "\n",
    "We'll evaluate 2 approaches."
   ]
  },
  {
   "cell_type": "markdown",
   "metadata": {},
   "source": [
    "### MAP estimator\n",
    "\n",
    "This relies on assuming either 0 or 1 decomposition events happen per time slice.\n",
    "\n",
    "If our event space has been discretized into $m$ cells, we have $m + 1$ alternative hypotheses $H = \\{\\overrightarrow{0}, \\overrightarrow{e_1}, \\overrightarrow{e_2}, \\ldots, \\overrightarrow{e_m}\\}$ for each time slice that can explain the detector measurements: the unit vectors in $R^m$ and the $0^m$ vector.\n",
    "\n",
    "So if we have a function proportional to the likelihood $l(x^m \\mid \\theta, y)$ implied by our Poisson model, we're looking for\n",
    "\n",
    "$$\n",
    "\\underset{x^m \\in H}{\\text{argmax}} \\, l(x^m \\mid \\theta, y)\n",
    "$$\n",
    "\n",
    "We get an easy $l$ function if we assume indepedence between detectors and simply multiply their likelihoods together, and assume a uniform prior on the hypotheses $h_i$"
   ]
  },
  {
   "cell_type": "markdown",
   "metadata": {},
   "source": [
    "### Minimize $x^m$\n",
    "\n",
    "We can minimize $x^m$ if we have the likelihood $l(x^m \\mid \\theta, y)$ ; in this toy problem we're not putting a prior on $x^m$ but this is where the l1 penalty might come in handy in the real case.\n",
    "\n",
    "This method has the advantage that it can handle cases where more than 0 or 1 events are likely in a given time slice, and more."
   ]
  },
  {
   "cell_type": "markdown",
   "metadata": {},
   "source": [
    "## Let's try the different approaches\n",
    "\n",
    "The first time around there was weirdness because there was too little power; there were an expected number of 5.4 photons counted per sample and that was insufficient. I upped the power a bit:"
   ]
  },
  {
   "cell_type": "code",
   "execution_count": 5,
   "metadata": {},
   "outputs": [
    {
     "data": {
      "text/plain": [
       "54.2"
      ]
     },
     "execution_count": 5,
     "metadata": {},
     "output_type": "execute_result"
    }
   ],
   "source": [
    "theta.sum()"
   ]
  },
  {
   "cell_type": "markdown",
   "metadata": {},
   "source": [
    "and now things are easier for the solver.\n",
    "\n",
    "I understand there's like several hundred expected photons in the real deal."
   ]
  },
  {
   "cell_type": "code",
   "execution_count": 6,
   "metadata": {},
   "outputs": [],
   "source": [
    "test_xs, test_ys = sim.sample_n(100)\n",
    "nullary_estimator = NullaryEstimator(sim)\n",
    "map_estimator = MAPEstimator('MAP', theta)\n",
    "xobj_estimator = XObjEstimator('XObj', theta)\n",
    "xobj_estimator_100 = XObjEstimator('XObj_100', theta_100)\n",
    "\n",
    "evaluator = Evaluate([nullary_estimator, map_estimator, xobj_estimator_100, xobj_estimator], test_xs, test_ys)"
   ]
  },
  {
   "cell_type": "code",
   "execution_count": 7,
   "metadata": {},
   "outputs": [
    {
     "data": {
      "image/png": "[encoded data removed]",
      "text/plain": [
       "<Figure size 432x288 with 1 Axes>"
      ]
     },
     "metadata": {
      "needs_background": "light"
     },
     "output_type": "display_data"
    }
   ],
   "source": [
    "evaluator.boxplot()"
   ]
  },
  {
   "cell_type": "markdown",
   "metadata": {},
   "source": [
    "This looks reasonable; 100 samples in these conditions suffice to make XObj_100 almost as good as XObj."
   ]
  }
 ],
 "metadata": {
  "kernelspec": {
   "display_name": "Python 3",
   "language": "python",
   "name": "python3"
  },
  "language_info": {
   "codemirror_mode": {
    "name": "ipython",
    "version": 3
   },
   "file_extension": ".py",
   "mimetype": "text/x-python",
   "name": "python",
   "nbconvert_exporter": "python",
   "pygments_lexer": "ipython3",
   "version": "3.7.3"
  }
 },
 "nbformat": 4,
 "nbformat_minor": 2
}
