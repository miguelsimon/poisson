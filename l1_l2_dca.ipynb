{
 "cells": [
  {
   "cell_type": "markdown",
   "metadata": {},
   "source": [
    "### Sparse Poisson\n",
    "\n",
    "There's a lot of recent literature on adding sparsity constraints to Poisson reconstruction problems; after reading some of them and considering implementation complexity and my capacity to understand what the different sparse priors are actually optimizing for, I've settled for the approach in [Yin, P., Lou, Y., He, Q., & Xin, J. (2015). Minimization of ℓ1-2 for Compressed Sensing. SIAM J. Scientific Computing, 37.](https://www.math.uci.edu/~jxin/cam14-01.pdf).\n",
    "\n",
    "This penalizes the difference between the $l_1$ and $l_2$ norms ie the objective is\n",
    "\n",
    "$$\n",
    "objective(x) = \\sum_{i=0}^{m} \\big( y_i \\cdot log(\\theta \\cdot x) \\big) - \\theta \\cdot x + \\alpha \\big(\\lVert x \\rVert_1 - \\lVert x \\rVert_2 \\big)\n",
    "$$"
   ]
  },
  {
   "cell_type": "markdown",
   "metadata": {},
   "source": [
    "Intuitively the $\\lVert x \\rVert_1 - \\lVert x \\rVert_2$ term measures sparsity; it's 0 when x is maximally sparse, l1 = l2, and greatest when x is maximally dense.\n",
    "\n",
    "We now have what's known as a *difference of convex* objective: we can represent the objective as a convex term:\n",
    "\n",
    "$$\n",
    "\\sum_{i=0}^{m} \\big( y_i \\cdot log(\\theta \\cdot x) \\big) - \\theta \\cdot x + \\alpha \\lVert x \\rVert_1\n",
    "$$\n",
    "\n",
    "plus a concave term:\n",
    "$$\n",
    "- \\alpha \\lVert x \\rVert_2\n",
    "$$"
   ]
  },
  {
   "cell_type": "markdown",
   "metadata": {},
   "source": [
    "These problems can be solved by what is known as DCA, difference of convex algorithm. This is an iterative method that \n",
    "* linearizes the concave term at each iteration and solves this subproblem (which is convex)\n",
    "* repeats until convergence\n",
    "\n",
    "I like this approach mainly because I'm lazy: I can use the excellent [cvxopt](https://cvxopt.org/) package to solve the convex subproblems; I only need to write the outer iteration and the linearization of the concave $- \\alpha \\lVert x \\rVert_2$ term."
   ]
  },
  {
   "cell_type": "code",
   "execution_count": null,
   "metadata": {},
   "outputs": [],
   "source": []
  }
 ],
 "metadata": {
  "kernelspec": {
   "display_name": "Python 3",
   "language": "python",
   "name": "python3"
  },
  "language_info": {
   "codemirror_mode": {
    "name": "ipython",
    "version": 3
   },
   "file_extension": ".py",
   "mimetype": "text/x-python",
   "name": "python",
   "nbconvert_exporter": "python",
   "pygments_lexer": "ipython3",
   "version": "3.7.3"
  }
 },
 "nbformat": 4,
 "nbformat_minor": 2
}
